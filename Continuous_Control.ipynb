{
 "cells": [
  {
   "cell_type": "markdown",
   "metadata": {},
   "source": [
    "# Continuous Control\n",
    "\n",
    "---\n",
    "\n",
    "You are welcome to use this coding environment to train your agent for the project.  Follow the instructions below to get started!\n",
    "\n",
    "### 1. Start the Environment\n",
    "\n",
    "Run the next code cell to install a few packages.  This line will take a few minutes to run!"
   ]
  },
  {
   "cell_type": "code",
   "execution_count": 2,
   "metadata": {},
   "outputs": [
    {
     "name": "stdout",
     "output_type": "stream",
     "text": [
      "\u001b[31mtensorflow 1.7.1 has requirement numpy>=1.13.3, but you'll have numpy 1.12.1 which is incompatible.\u001b[0m\r\n",
      "\u001b[31mipython 6.5.0 has requirement prompt-toolkit<2.0.0,>=1.0.15, but you'll have prompt-toolkit 3.0.5 which is incompatible.\u001b[0m\r\n"
     ]
    }
   ],
   "source": [
    "!pip -q install ./python"
   ]
  },
  {
   "cell_type": "markdown",
   "metadata": {},
   "source": [
    "The environments corresponding to both versions of the environment are already saved in the Workspace and can be accessed at the file paths provided below.  \n",
    "\n",
    "Please select one of the two options below for loading the environment."
   ]
  },
  {
   "cell_type": "code",
   "execution_count": 3,
   "metadata": {},
   "outputs": [
    {
     "name": "stderr",
     "output_type": "stream",
     "text": [
      "INFO:unityagents:\n",
      "'Academy' started successfully!\n",
      "Unity Academy name: Academy\n",
      "        Number of Brains: 1\n",
      "        Number of External Brains : 1\n",
      "        Lesson number : 0\n",
      "        Reset Parameters :\n",
      "\t\tgoal_size -> 5.0\n",
      "\t\tgoal_speed -> 1.0\n",
      "Unity brain name: ReacherBrain\n",
      "        Number of Visual Observations (per agent): 0\n",
      "        Vector Observation space type: continuous\n",
      "        Vector Observation space size (per agent): 33\n",
      "        Number of stacked Vector Observation: 1\n",
      "        Vector Action space type: continuous\n",
      "        Vector Action space size (per agent): 4\n",
      "        Vector Action descriptions: , , , \n"
     ]
    }
   ],
   "source": [
    "from unityagents import UnityEnvironment\n",
    "import numpy as np\n",
    "\n",
    "# select this option to load version 1 (with a single agent) of the environment\n",
    "env = UnityEnvironment(file_name='/data/Reacher_One_Linux_NoVis/Reacher_One_Linux_NoVis.x86_64')\n",
    "\n",
    "# select this option to load version 2 (with 20 agents) of the environment\n",
    "# env = UnityEnvironment(file_name='/data/Reacher_Linux_NoVis/Reacher.x86_64')"
   ]
  },
  {
   "cell_type": "markdown",
   "metadata": {},
   "source": [
    "Environments contain **_brains_** which are responsible for deciding the actions of their associated agents. Here we check for the first brain available, and set it as the default brain we will be controlling from Python."
   ]
  },
  {
   "cell_type": "code",
   "execution_count": 4,
   "metadata": {},
   "outputs": [],
   "source": [
    "# get the default brain\n",
    "brain_name = env.brain_names[0]\n",
    "brain = env.brains[brain_name]"
   ]
  },
  {
   "cell_type": "markdown",
   "metadata": {},
   "source": [
    "### 2. Examine the State and Action Spaces\n",
    "\n",
    "Run the code cell below to print some information about the environment."
   ]
  },
  {
   "cell_type": "code",
   "execution_count": 5,
   "metadata": {},
   "outputs": [
    {
     "name": "stdout",
     "output_type": "stream",
     "text": [
      "Number of agents: 1\n",
      "Size of each action: 4\n",
      "There are 1 agents. Each observes a state with length: 33\n",
      "The state for the first agent looks like: [  0.00000000e+00  -4.00000000e+00   0.00000000e+00   1.00000000e+00\n",
      "  -0.00000000e+00  -0.00000000e+00  -4.37113883e-08   0.00000000e+00\n",
      "   0.00000000e+00   0.00000000e+00   0.00000000e+00   0.00000000e+00\n",
      "   0.00000000e+00   0.00000000e+00  -1.00000000e+01   0.00000000e+00\n",
      "   1.00000000e+00  -0.00000000e+00  -0.00000000e+00  -4.37113883e-08\n",
      "   0.00000000e+00   0.00000000e+00   0.00000000e+00   0.00000000e+00\n",
      "   0.00000000e+00   0.00000000e+00   5.75471878e+00  -1.00000000e+00\n",
      "   5.55726671e+00   0.00000000e+00   1.00000000e+00   0.00000000e+00\n",
      "  -1.68164849e-01]\n"
     ]
    }
   ],
   "source": [
    "# reset the environment\n",
    "env_info = env.reset(train_mode=True)[brain_name]\n",
    "\n",
    "# number of agents\n",
    "num_agents = len(env_info.agents)\n",
    "print('Number of agents:', num_agents)\n",
    "\n",
    "# size of each action\n",
    "action_size = brain.vector_action_space_size\n",
    "print('Size of each action:', action_size)\n",
    "\n",
    "# examine the state space \n",
    "states = env_info.vector_observations\n",
    "state_size = states.shape[1]\n",
    "print('There are {} agents. Each observes a state with length: {}'.format(states.shape[0], state_size))\n",
    "print('The state for the first agent looks like:', states[0])"
   ]
  },
  {
   "cell_type": "markdown",
   "metadata": {},
   "source": [
    "### 3. Take Random Actions in the Environment\n",
    "\n",
    "In the next code cell, you will learn how to use the Python API to control the agent and receive feedback from the environment.\n",
    "\n",
    "Note that **in this coding environment, you will not be able to watch the agents while they are training**, and you should set `train_mode=True` to restart the environment."
   ]
  },
  {
   "cell_type": "raw",
   "metadata": {},
   "source": [
    "env_info = env.reset(train_mode=True)[brain_name]      # reset the environment    \n",
    "states = env_info.vector_observations                  # get the current state (for each agent)\n",
    "scores = np.zeros(num_agents)                          # initialize the score (for each agent)\n",
    "count = 0\n",
    "while True:\n",
    "    actions = np.random.randn(num_agents, action_size) # select an action (for each agent)\n",
    "    print('actions before clipping: ', actions)\n",
    "    actions = np.clip(actions, -1, 1)                  # all actions between -1 and 1\n",
    "    print('actions after clipping : ', actions[0])\n",
    "    env_info = env.step(actions[0][0])[brain_name]           # send all actions to tne environment\n",
    "    next_states = env_info.vector_observations         # get next state (for each agent)\n",
    "    #print('next_states: ', next_states)\n",
    "    rewards = env_info.rewards                         # get reward (for each agent)\n",
    "    #print('rewards: ', rewards)\n",
    "    dones = env_info.local_done                        # see if episode finished\n",
    "    #print('dones: ', dones)\n",
    "    scores += env_info.rewards                         # update the score (for each agent)\n",
    "    #print('scores: ', scores)\n",
    "    states = next_states                               # roll over states to next time step\n",
    "    count += 1\n",
    "    if np.any(dones):                                  # exit loop if episode finished\n",
    "        print('count: ', count)\n",
    "        break\n",
    "print('Total score (averaged over agents) this episode: {}'.format(np.mean(scores)))"
   ]
  },
  {
   "cell_type": "markdown",
   "metadata": {},
   "source": [
    "When finished, you can close the environment."
   ]
  },
  {
   "cell_type": "code",
   "execution_count": 6,
   "metadata": {},
   "outputs": [],
   "source": [
    "# env.close()"
   ]
  },
  {
   "cell_type": "markdown",
   "metadata": {},
   "source": [
    "### 4. It's Your Turn!\n",
    "\n",
    "Now it's your turn to train your own agent to solve the environment!  A few **important notes**:\n",
    "- When training the environment, set `train_mode=True`, so that the line for resetting the environment looks like the following:\n",
    "```python\n",
    "env_info = env.reset(train_mode=True)[brain_name]\n",
    "```\n",
    "- To structure your work, you're welcome to work directly in this Jupyter notebook, or you might like to start over with a new file!  You can see the list of files in the workspace by clicking on **_Jupyter_** in the top left corner of the notebook.\n",
    "- In this coding environment, you will not be able to watch the agents while they are training.  However, **_after training the agents_**, you can download the saved model weights to watch the agents on your own machine! "
   ]
  },
  {
   "cell_type": "markdown",
   "metadata": {},
   "source": [
    "### 5. Import libraries"
   ]
  },
  {
   "cell_type": "code",
   "execution_count": 7,
   "metadata": {},
   "outputs": [],
   "source": [
    "import numpy as np\n",
    "import random\n",
    "import copy\n",
    "from collections import namedtuple, deque\n",
    "\n",
    "import torch\n",
    "import torch.nn as nn\n",
    "import torch.nn.functional as F\n",
    "import torch.optim as optim\n",
    "\n",
    "import matplotlib.pyplot as plt\n",
    "%matplotlib inline"
   ]
  },
  {
   "cell_type": "markdown",
   "metadata": {},
   "source": [
    "### 5. The Model"
   ]
  },
  {
   "cell_type": "code",
   "execution_count": 8,
   "metadata": {},
   "outputs": [],
   "source": [
    "def hidden_init(layer):\n",
    "    fan_in = layer.weight.data.size()[0]\n",
    "    lim = 1. / np.sqrt(fan_in)\n",
    "    return (-lim, lim)\n",
    "\n",
    "class Actor(nn.Module):\n",
    "    \"\"\"Actor (Policy) Model.\"\"\"\n",
    "\n",
    "    def __init__(self, state_size, action_size, seed, fc1_units=400, fc2_units=300):\n",
    "        \"\"\"Initialize parameters and build model.\n",
    "        Params\n",
    "        ======\n",
    "            state_size (int): Dimension of each state\n",
    "            action_size (int): Dimension of each action\n",
    "            seed (int): Random seed\n",
    "            fc1_units (int): Number of nodes in first hidden layer\n",
    "            fc2_units (int): Number of nodes in second hidden layer\n",
    "        \"\"\"\n",
    "        super(Actor, self).__init__()\n",
    "        self.seed = torch.manual_seed(seed)\n",
    "        self.fc1 = nn.Linear(state_size, fc1_units)\n",
    "        self.bn1 = nn.BatchNorm1d(fc1_units)\n",
    "        self.fc2 = nn.Linear(fc1_units, fc2_units)\n",
    "        self.bn2 = nn.BatchNorm1d(fc2_units)\n",
    "        self.fc3 = nn.Linear(fc2_units, action_size)\n",
    "        self.reset_parameters()\n",
    "\n",
    "    def reset_parameters(self):\n",
    "        self.fc1.weight.data.uniform_(*hidden_init(self.fc1))\n",
    "        self.fc2.weight.data.uniform_(*hidden_init(self.fc2))\n",
    "        self.fc3.weight.data.uniform_(-3e-3, 3e-3)\n",
    "\n",
    "    def forward(self, state):\n",
    "        \"\"\"Build an actor (policy) network that maps states -> actions.\"\"\"\n",
    "        x = F.relu(self.bn1(self.fc1(state)))\n",
    "        x = F.relu(self.bn2(self.fc2(x)))\n",
    "        return F.tanh(self.fc3(x))\n",
    "\n",
    "\n",
    "class Critic(nn.Module):\n",
    "    \"\"\"Critic (Value) Model.\"\"\"\n",
    "\n",
    "    def __init__(self, state_size, action_size, seed, fcs1_units=400, fc2_units=300):\n",
    "        \"\"\"Initialize parameters and build model.\n",
    "        Params\n",
    "        ======\n",
    "            state_size (int): Dimension of each state\n",
    "            action_size (int): Dimension of each action\n",
    "            seed (int): Random seed\n",
    "            fcs1_units (int): Number of nodes in the first hidden layer\n",
    "            fc2_units (int): Number of nodes in the second hidden layer\n",
    "        \"\"\"\n",
    "        super(Critic, self).__init__()\n",
    "        self.seed = torch.manual_seed(seed)\n",
    "        self.fcs1 = nn.Linear(state_size, fcs1_units)\n",
    "        self.bn1 = nn.BatchNorm1d(fcs1_units)\n",
    "        self.fc2 = nn.Linear(fcs1_units+action_size, fc2_units)\n",
    "        self.fc3 = nn.Linear(fc2_units, 1)\n",
    "        self.reset_parameters()\n",
    "\n",
    "    def reset_parameters(self):\n",
    "        self.fcs1.weight.data.uniform_(*hidden_init(self.fcs1))\n",
    "        self.fc2.weight.data.uniform_(*hidden_init(self.fc2))\n",
    "        self.fc3.weight.data.uniform_(-3e-3, 3e-3)\n",
    "\n",
    "    def forward(self, state, action):\n",
    "        \"\"\"Build a critic (value) network that maps (state, action) pairs -> Q-values.\"\"\"\n",
    "        xs = F.relu(self.bn1(self.fcs1(state)))\n",
    "        x = torch.cat((xs, action), dim=1)\n",
    "        x = F.relu(self.fc2(x))\n",
    "        return self.fc3(x)"
   ]
  },
  {
   "cell_type": "markdown",
   "metadata": {},
   "source": [
    "### 6. The Agent"
   ]
  },
  {
   "cell_type": "code",
   "execution_count": 9,
   "metadata": {},
   "outputs": [],
   "source": [
    "BUFFER_SIZE = int(1e6)  # replay buffer size int(1e5)\n",
    "BATCH_SIZE = 256        # minibatch size 128\n",
    "GAMMA = 0.99            # discount factor\n",
    "TAU = 1e-3              # for soft update of target parameters\n",
    "LR_ACTOR = 1e-4         # learning rate of the actor 1e-4\n",
    "LR_CRITIC = 1e-4        # learning rate of the critic 1e-3\n",
    "WEIGHT_DECAY = 0        # L2 weight decay 0\n",
    "UPDATE_EVERY = 4        # how often to update the network 4\n",
    "UPDATE_STEPS = 1        # how many times to update the network in a row 1\n",
    "\n",
    "device = torch.device(\"cuda:0\" if torch.cuda.is_available() else \"cpu\")\n",
    "\n",
    "class Agent():\n",
    "    \"\"\"Interacts with and learns from the environment.\"\"\"\n",
    "    \n",
    "    def __init__(self, state_size, action_size, random_seed):\n",
    "        \"\"\"Initialize an Agent object.\n",
    "        \n",
    "        Params\n",
    "        ======\n",
    "            state_size (int): dimension of each state\n",
    "            action_size (int): dimension of each action\n",
    "            random_seed (int): random seed\n",
    "        \"\"\"\n",
    "        self.state_size = state_size\n",
    "        self.action_size = action_size\n",
    "        self.seed = random.seed(random_seed)\n",
    "\n",
    "        # Actor Network (w/ Target Network)\n",
    "        self.actor_local = Actor(state_size, action_size, random_seed).to(device)\n",
    "        self.actor_target = Actor(state_size, action_size, random_seed).to(device)\n",
    "        self.actor_optimizer = optim.Adam(self.actor_local.parameters(), lr=LR_ACTOR)\n",
    "\n",
    "        # Critic Network (w/ Target Network)\n",
    "        self.critic_local = Critic(state_size, action_size, random_seed).to(device)\n",
    "        self.critic_target = Critic(state_size, action_size, random_seed).to(device)\n",
    "        self.critic_optimizer = optim.Adam(self.critic_local.parameters(), lr=LR_CRITIC, weight_decay=WEIGHT_DECAY)\n",
    "\n",
    "        # Noise process\n",
    "        # self.noise = OUNoise(action_size, random_seed)\n",
    "\n",
    "        # Replay memory\n",
    "        self.memory = ReplayBuffer(action_size, BUFFER_SIZE, BATCH_SIZE, random_seed)\n",
    "        # Initialize time step (for updating every UPDATE_EVERY steps)\n",
    "        self.t_step = 0\n",
    "    \n",
    "    def step(self, state, action, reward, next_state, done):\n",
    "        \"\"\"Save experience in replay memory, and use random sample from buffer to learn.\"\"\"\n",
    "        # Save experience / reward\n",
    "        self.memory.add(state, action, reward, next_state, done)\n",
    "        \n",
    "        # Learn every UPDATE_EVERY time steps.\n",
    "        self.t_step = (self.t_step + 1) % UPDATE_EVERY\n",
    "        if self.t_step == 0:\n",
    "            # Learn, if enough samples are available in memory\n",
    "            if len(self.memory) > BATCH_SIZE:\n",
    "                for _ in range(UPDATE_STEPS):\n",
    "                    experiences = self.memory.sample()\n",
    "                    self.learn(experiences, GAMMA)\n",
    "\n",
    "    def act(self, state, add_noise=True):\n",
    "        \"\"\"Returns actions for given state as per current policy.\"\"\"\n",
    "        state = torch.from_numpy(state).float().view(1,-1).to(device)\n",
    "        self.actor_local.eval()\n",
    "        with torch.no_grad():\n",
    "            action = self.actor_local(state).cpu().data.numpy()\n",
    "        self.actor_local.train()\n",
    "        if add_noise:\n",
    "            #action += self.noise.sample()\n",
    "            action += np.random.normal(0, 0.2, self.action_size)\n",
    "        return np.clip(action, -1, 1)\n",
    "\n",
    "    #def reset(self):\n",
    "        #self.noise.reset()\n",
    "\n",
    "    def learn(self, experiences, gamma):\n",
    "        \"\"\"Update policy and value parameters using given batch of experience tuples.\n",
    "        Q_targets = r + γ * critic_target(next_state, actor_target(next_state))\n",
    "        where:\n",
    "            actor_target(state) -> action\n",
    "            critic_target(state, action) -> Q-value\n",
    "        Params\n",
    "        ======\n",
    "            experiences (Tuple[torch.Tensor]): tuple of (s, a, r, s', done) tuples \n",
    "            gamma (float): discount factor\n",
    "        \"\"\"\n",
    "        states, actions, rewards, next_states, dones = experiences\n",
    "\n",
    "        # ---------------------------- update critic ---------------------------- #\n",
    "        # Get predicted next-state actions and Q values from target models\n",
    "        actions_next = self.actor_target(next_states)\n",
    "        Q_targets_next = self.critic_target(next_states, actions_next)\n",
    "        # Compute Q targets for current states (y_i)\n",
    "        Q_targets = rewards + (gamma * Q_targets_next * (1 - dones))\n",
    "        # Compute critic loss\n",
    "        Q_expected = self.critic_local(states, actions)\n",
    "        critic_loss = F.mse_loss(Q_expected, Q_targets)\n",
    "        # Minimize the loss\n",
    "        self.critic_optimizer.zero_grad()\n",
    "        critic_loss.backward()\n",
    "        torch.nn.utils.clip_grad_norm_(self.critic_local.parameters(), 1)\n",
    "        self.critic_optimizer.step()\n",
    "\n",
    "        # ---------------------------- update actor ---------------------------- #\n",
    "        # Compute actor loss\n",
    "        actions_pred = self.actor_local(states)\n",
    "        actor_loss = -self.critic_local(states, actions_pred).mean()\n",
    "        # Minimize the loss\n",
    "        self.actor_optimizer.zero_grad()\n",
    "        actor_loss.backward()\n",
    "        self.actor_optimizer.step()\n",
    "\n",
    "        # ----------------------- update target networks ----------------------- #\n",
    "        self.soft_update(self.critic_local, self.critic_target, TAU)\n",
    "        self.soft_update(self.actor_local, self.actor_target, TAU)                     \n",
    "\n",
    "    def soft_update(self, local_model, target_model, tau):\n",
    "        \"\"\"Soft update model parameters.\n",
    "        θ_target = τ*θ_local + (1 - τ)*θ_target\n",
    "        Params\n",
    "        ======\n",
    "            local_model: PyTorch model (weights will be copied from)\n",
    "            target_model: PyTorch model (weights will be copied to)\n",
    "            tau (float): interpolation parameter \n",
    "        \"\"\"\n",
    "        for target_param, local_param in zip(target_model.parameters(), local_model.parameters()):\n",
    "            target_param.data.copy_(tau*local_param.data + (1.0-tau)*target_param.data)\n",
    "\n",
    "# class OUNoise:\n",
    "#     \"\"\"Ornstein-Uhlenbeck process.\"\"\"\n",
    "\n",
    "#     def __init__(self, size, seed, mu=0., theta=0.15, sigma=0.2):\n",
    "#         \"\"\"Initialize parameters and noise process.\"\"\"\n",
    "#         self.mu = mu * np.ones(size)\n",
    "#         self.theta = theta\n",
    "#         self.sigma = sigma\n",
    "#         self.seed = random.seed(seed)\n",
    "#         self.reset()\n",
    "\n",
    "#     def reset(self):\n",
    "#         \"\"\"Reset the internal state (= noise) to mean (mu).\"\"\"\n",
    "#         self.state = copy.copy(self.mu)\n",
    "\n",
    "#     def sample(self):\n",
    "#         \"\"\"Update internal state and return it as a noise sample.\"\"\"\n",
    "#         x = self.state\n",
    "#         dx = self.theta * (self.mu - x) + self.sigma * np.array([random.random() for i in range(len(x))])\n",
    "#         self.state = x + dx\n",
    "#         return self.state\n",
    "\n",
    "class ReplayBuffer:\n",
    "    \"\"\"Fixed-size buffer to store experience tuples.\"\"\"\n",
    "\n",
    "    def __init__(self, action_size, buffer_size, batch_size, seed):\n",
    "        \"\"\"Initialize a ReplayBuffer object.\n",
    "        Params\n",
    "        ======\n",
    "            buffer_size (int): maximum size of buffer\n",
    "            batch_size (int): size of each training batch\n",
    "        \"\"\"\n",
    "        self.action_size = action_size\n",
    "        self.memory = deque(maxlen=buffer_size)  # internal memory (deque)\n",
    "        self.batch_size = batch_size\n",
    "        self.experience = namedtuple(\"Experience\", field_names=[\"state\", \"action\", \"reward\", \"next_state\", \"done\"])\n",
    "        self.seed = random.seed(seed)\n",
    "    \n",
    "    def add(self, state, action, reward, next_state, done):\n",
    "        \"\"\"Add a new experience to memory.\"\"\"\n",
    "        e = self.experience(state, action, reward, next_state, done)\n",
    "        self.memory.append(e)\n",
    "    \n",
    "    def sample(self):\n",
    "        \"\"\"Randomly sample a batch of experiences from memory.\"\"\"\n",
    "        experiences = random.sample(self.memory, k=self.batch_size)\n",
    "\n",
    "        states = torch.from_numpy(np.vstack([e.state for e in experiences if e is not None])).float().to(device)\n",
    "        actions = torch.from_numpy(np.vstack([e.action for e in experiences if e is not None])).float().to(device)\n",
    "        rewards = torch.from_numpy(np.vstack([e.reward for e in experiences if e is not None])).float().to(device)\n",
    "        next_states = torch.from_numpy(np.vstack([e.next_state for e in experiences if e is not None])).float().to(device)\n",
    "        dones = torch.from_numpy(np.vstack([e.done for e in experiences if e is not None]).astype(np.uint8)).float().to(device)\n",
    "\n",
    "        return (states, actions, rewards, next_states, dones)\n",
    "\n",
    "    def __len__(self):\n",
    "        \"\"\"Return the current size of internal memory.\"\"\"\n",
    "        return len(self.memory)"
   ]
  },
  {
   "cell_type": "markdown",
   "metadata": {},
   "source": [
    "### 7. The DDPG Algorithm"
   ]
  },
  {
   "cell_type": "code",
   "execution_count": 10,
   "metadata": {},
   "outputs": [
    {
     "name": "stdout",
     "output_type": "stream",
     "text": [
      "Episode 100\tAverage Score: 2.56\n",
      "Episode 200\tAverage Score: 24.84\n",
      "Episode 218\tAverage Score: 30.01\n",
      "Environment solved in 218 episodes!\tAverage Score: 30.01\n",
      "Episode 300\tAverage Score: 38.11\n",
      "Episode 400\tAverage Score: 38.79\n",
      "Episode 500\tAverage Score: 39.13\n"
     ]
    },
    {
     "data": {
      "image/png": "[encoded data removed]",
      "text/plain": [
       "<matplotlib.figure.Figure at 0x7f679b150518>"
      ]
     },
     "metadata": {
      "needs_background": "light"
     },
     "output_type": "display_data"
    }
   ],
   "source": [
    "def ddpg(n_episodes=1000, max_t=300, print_every=100):\n",
    "    scores_deque = deque(maxlen=print_every)\n",
    "    scores = []\n",
    "    solved = 0\n",
    "    for i_episode in range(1, n_episodes+1):\n",
    "        # state = env.reset()\n",
    "        env_info = env.reset(train_mode=True)[brain_name]\n",
    "        states = env_info.vector_observations\n",
    "        state = states[0]\n",
    "        #agent.reset()\n",
    "        score = 0\n",
    "        for t in range(max_t):\n",
    "            action = agent.act(state)\n",
    "            # next_state, reward, done, _ = env.step(action)\n",
    "            env_info = env.step(action)[brain_name]\n",
    "            states = env_info.vector_observations\n",
    "            next_state = states[0]\n",
    "            #print('next_state: ', next_state)\n",
    "            rewards = env_info.rewards\n",
    "            reward = rewards[0]\n",
    "            #print('reward: ', reward)\n",
    "            dones = env_info.local_done\n",
    "            done = dones[0]\n",
    "            #print('done: ', done)\n",
    "            agent.step(state, action, reward, next_state, done)\n",
    "            state = next_state\n",
    "            score += reward\n",
    "            if done:\n",
    "                break \n",
    "        scores_deque.append(score)\n",
    "        scores.append(score)\n",
    "        print('\\rEpisode {}\\tAverage Score: {:.2f}'.format(i_episode, np.mean(scores_deque)), end=\"\")\n",
    "        torch.save(agent.actor_local.state_dict(), 'checkpoint_actor.pth')\n",
    "        torch.save(agent.critic_local.state_dict(), 'checkpoint_critic.pth')\n",
    "        if i_episode % print_every == 0:\n",
    "            print('\\rEpisode {}\\tAverage Score: {:.2f}'.format(i_episode, np.mean(scores_deque)))\n",
    "        if (np.mean(scores_deque)>=30.0) and (solved == 0):\n",
    "            solved = 1\n",
    "            print('\\nEnvironment solved in {:d} episodes!\\tAverage Score: {:.2f}'.format(i_episode, np.mean(scores_deque)))\n",
    "            torch.save(agent.actor_local.state_dict(), 'checkpoint_actor.pth')\n",
    "            torch.save(agent.critic_local.state_dict(), 'checkpoint_critic.pth')\n",
    "            \n",
    "    return scores\n",
    "\n",
    "agent = Agent(state_size=state_size, action_size=action_size, random_seed=2)\n",
    "scores = ddpg(n_episodes=500, max_t=1000, print_every=100)\n",
    "\n",
    "fig = plt.figure()\n",
    "ax = fig.add_subplot(111)\n",
    "plt.plot(np.arange(1, len(scores)+1), scores)\n",
    "plt.ylabel('Score')\n",
    "plt.xlabel('Episode #')\n",
    "plt.show()"
   ]
  },
  {
   "cell_type": "markdown",
   "metadata": {},
   "source": [
    "### 8. The plot of the scores "
   ]
  },
  {
   "cell_type": "code",
   "execution_count": 12,
   "metadata": {},
   "outputs": [
    {
     "data": {
      "image/png": "[encoded data removed]",
      "text/plain": [
       "<matplotlib.figure.Figure at 0x7f679b123668>"
      ]
     },
     "metadata": {
      "needs_background": "light"
     },
     "output_type": "display_data"
    }
   ],
   "source": [
    "scores300 = scores[:300]\n",
    "fig = plt.figure()\n",
    "ax = fig.add_subplot(111)\n",
    "plt.plot(np.arange(1, len(scores300)+1), scores300)\n",
    "plt.ylabel('Score')\n",
    "plt.xlabel('Episode #')\n",
    "plt.show()"
   ]
  },
  {
   "cell_type": "markdown",
   "metadata": {},
   "source": [
    "### 9. The history of my tries \n",
    "Starting with the initial configuration, the code from the [implementation](https://github.com/fjonck/deep-reinforcement-learning/tree/master/ddpg-pendulum) provided by Udacity, which uses a DDPG approach to solve the [OpenAI Gym's Pendulum environment](https://github.com/openai/gym/wiki/Pendulum-v0)."
   ]
  },
  {
   "cell_type": "markdown",
   "metadata": {},
   "source": [
    "Initial:\n",
    "Episode 100\tAverage Score: 1.04\n",
    "Episode 200\tAverage Score: 0.83\n",
    "Episode 300\tAverage Score: 0.79\n",
    "Episode 318\tAverage Score: 0.77"
   ]
  },
  {
   "cell_type": "markdown",
   "metadata": {},
   "source": [
    "DDPG Paper:\n",
    "Episode 20\tAverage Score: 0.13\n",
    "Episode 40\tAverage Score: 0.00\n",
    "Episode 60\tAverage Score: 0.02\n",
    "Episode 80\tAverage Score: 0.00\n",
    "Episode 100\tAverage Score: 0.00\n",
    "Episode 120\tAverage Score: 0.02\n",
    "Episode 124\tAverage Score: 0.01"
   ]
  },
  {
   "cell_type": "markdown",
   "metadata": {},
   "source": [
    "Initial, LR_CRITIC = 1e-4:\n",
    "Episode 20\tAverage Score: 0.76\n",
    "Episode 40\tAverage Score: 1.25\n",
    "Episode 60\tAverage Score: 1.19\n",
    "Episode 80\tAverage Score: 1.18\n",
    "Episode 100\tAverage Score: 1.10\n",
    "Episode 120\tAverage Score: 0.79\n",
    "Episode 140\tAverage Score: 0.36\n",
    "Episode 146\tAverage Score: 0.51"
   ]
  },
  {
   "cell_type": "markdown",
   "metadata": {},
   "source": [
    "Initial, LR_CRITIC = 1e-5: \n",
    "Episode 20\tAverage Score: 0.59\n",
    "Episode 40\tAverage Score: 0.91\n",
    "Episode 60\tAverage Score: 1.64\n",
    "Episode 80\tAverage Score: 1.93\n",
    "Episode 100\tAverage Score: 2.18\n",
    "Episode 120\tAverage Score: 2.36\n",
    "Episode 140\tAverage Score: 3.39\n",
    "Episode 148\tAverage Score: 2.92"
   ]
  },
  {
   "cell_type": "markdown",
   "metadata": {},
   "source": [
    "Initial, LR_CRITIC = 1e-6:\n",
    "Episode 20\tAverage Score: 0.38\n",
    "Episode 40\tAverage Score: 0.55\n",
    "Episode 60\tAverage Score: 0.75\n",
    "Episode 80\tAverage Score: 0.53\n",
    "Episode 100\tAverage Score: 0.91\n",
    "Episode 120\tAverage Score: 0.30\n",
    "Episode 140\tAverage Score: 0.55\n",
    "Episode 141\tAverage Score: 0.49"
   ]
  },
  {
   "cell_type": "markdown",
   "metadata": {},
   "source": [
    "Initial, LR_CRITIC = 1e-5, WEIGHT_DECAY = 0.01: \n",
    "Episode 20\tAverage Score: 0.07\n",
    "Episode 23\tAverage Score: 0.05"
   ]
  },
  {
   "cell_type": "markdown",
   "metadata": {},
   "source": [
    "Initial, LR_CRITIC = 1e-5, LR_ACTOR = 1e-5:\n",
    "Episode 20\tAverage Score: 0.27\n",
    "Episode 40\tAverage Score: 0.70\n",
    "Episode 60\tAverage Score: 1.08\n",
    "Episode 80\tAverage Score: 1.37\n",
    "Episode 100\tAverage Score: 1.37\n",
    "Episode 120\tAverage Score: 1.49\n",
    "Episode 140\tAverage Score: 1.54\n",
    "Episode 160\tAverage Score: 1.78\n",
    "Episode 180\tAverage Score: 1.70\n",
    "Episode 200\tAverage Score: 1.76\n",
    "Episode 220\tAverage Score: 1.58\n",
    "Episode 240\tAverage Score: 1.99\n",
    "Episode 260\tAverage Score: 1.87\n",
    "Episode 280\tAverage Score: 2.23\n",
    "Episode 300\tAverage Score: 2.45\n",
    "\n",
    "![grafik.png](attachment:grafik.png)"
   ]
  },
  {
   "cell_type": "markdown",
   "metadata": {},
   "source": [
    "Initial, LR_CRITIC = 1e-5, LR_ACTOR = 1e-3:\n",
    "Episode 20\tAverage Score: 0.43\n",
    "Episode 40\tAverage Score: 0.56\n",
    "Episode 60\tAverage Score: 0.57\n",
    "Episode 80\tAverage Score: 0.60\n",
    "Episode 87\tAverage Score: 0.57"
   ]
  },
  {
   "cell_type": "markdown",
   "metadata": {},
   "source": [
    "Initial, LR_CRITIC = 1e-5, BUFFER_SIZE = int(1e6)\n",
    "Episode 20\tAverage Score: 0.33\n",
    "Episode 40\tAverage Score: 1.10\n",
    "Episode 60\tAverage Score: 1.63\n",
    "Episode 80\tAverage Score: 1.53\n",
    "Episode 100\tAverage Score: 1.40\n",
    "Episode 120\tAverage Score: 1.60\n",
    "Episode 140\tAverage Score: 1.33\n",
    "Episode 160\tAverage Score: 1.84\n",
    "Episode 180\tAverage Score: 1.83\n",
    "Episode 200\tAverage Score: 3.27\n",
    "Episode 220\tAverage Score: 3.65\n",
    "Episode 240\tAverage Score: 3.52\n",
    "Episode 260\tAverage Score: 3.65\n",
    "Episode 280\tAverage Score: 4.03\n",
    "Episode 300\tAverage Score: 3.83"
   ]
  },
  {
   "cell_type": "markdown",
   "metadata": {},
   "source": [
    "Ideas:\n",
    "- Batch normalization layer after the first fc layer\n",
    "- UPDATE_EVERY = 4: Update every 4 or 20 steps only\n",
    "- Decrease Variance: Less exploration"
   ]
  },
  {
   "cell_type": "markdown",
   "metadata": {},
   "source": [
    "Initial, LR_CRITIC = 1e-5\n",
    "Episode 20\tAverage Score: 0.59\n",
    "Episode 40\tAverage Score: 0.91\n",
    "Episode 60\tAverage Score: 1.64\n",
    "Episode 80\tAverage Score: 1.93\n",
    "Episode 100\tAverage Score: 2.18\n",
    "Episode 120\tAverage Score: 2.36\n",
    "Episode 140\tAverage Score: 3.39\n",
    "Episode 160\tAverage Score: 2.81\n",
    "Episode 180\tAverage Score: 3.34\n",
    "Episode 200\tAverage Score: 3.21\n",
    "Episode 220\tAverage Score: 3.50\n",
    "Episode 240\tAverage Score: 2.79\n",
    "Episode 260\tAverage Score: 3.71\n",
    "Episode 280\tAverage Score: 3.65\n",
    "Episode 300\tAverage Score: 3.96\n",
    "Episode 320\tAverage Score: 3.24\n",
    "Episode 340\tAverage Score: 3.14\n",
    "Episode 360\tAverage Score: 2.81\n",
    "Episode 380\tAverage Score: 3.00\n",
    "Episode 400\tAverage Score: 3.34\n",
    "Episode 420\tAverage Score: 3.99\n",
    "Episode 440\tAverage Score: 2.37\n",
    "Episode 460\tAverage Score: 2.36\n",
    "Episode 480\tAverage Score: 2.70\n",
    "Episode 500\tAverage Score: 2.00\n",
    "Episode 520\tAverage Score: 2.59\n",
    "Episode 522\tAverage Score: 2.89"
   ]
  },
  {
   "cell_type": "markdown",
   "metadata": {},
   "source": [
    "Initial, LR_CRITIC = 1e-5, gradient clipping:\n",
    "Episode 20\tAverage Score: 0.33\n",
    "Episode 40\tAverage Score: 1.10\n",
    "Episode 60\tAverage Score: 1.63\n",
    "Episode 80\tAverage Score: 1.53\n",
    "Episode 100\tAverage Score: 1.40\n",
    "Episode 120\tAverage Score: 1.70\n",
    "Episode 140\tAverage Score: 1.90\n",
    "Episode 160\tAverage Score: 1.63\n",
    "Episode 180\tAverage Score: 2.67\n",
    "Episode 200\tAverage Score: 3.32\n",
    "Episode 220\tAverage Score: 3.53\n",
    "Episode 240\tAverage Score: 3.40\n",
    "Episode 260\tAverage Score: 3.63\n",
    "Episode 275\tAverage Score: 3.18"
   ]
  },
  {
   "cell_type": "markdown",
   "metadata": {},
   "source": [
    "Initial, LR_CRITIC = 1e-5, gradient clipping, UPDATE_EVERY = 4, Normal Noise 0.2:\n",
    "Episode 20\tAverage Score: 0.36\n",
    "Episode 40\tAverage Score: 0.56\n",
    "Episode 60\tAverage Score: 0.81\n",
    "Episode 80\tAverage Score: 1.26\n",
    "Episode 100\tAverage Score: 1.67\n",
    "Episode 120\tAverage Score: 1.89\n",
    "Episode 140\tAverage Score: 2.29\n",
    "Episode 160\tAverage Score: 2.51\n",
    "Episode 180\tAverage Score: 3.78\n",
    "Episode 200\tAverage Score: 4.52\n",
    "Episode 220\tAverage Score: 4.52\n",
    "Episode 240\tAverage Score: 5.85\n",
    "Episode 260\tAverage Score: 7.48\n",
    "Episode 280\tAverage Score: 7.83\n",
    "Episode 300\tAverage Score: 8.46"
   ]
  },
  {
   "cell_type": "markdown",
   "metadata": {},
   "source": [
    "Initial, LR_CRITIC = 1e-5, gradient clipping, UPDATE_EVERY = 4, Normal Noise 0.1:\n",
    "Episode 20\tAverage Score: 0.63\n",
    "Episode 40\tAverage Score: 0.82\n",
    "Episode 60\tAverage Score: 0.83\n",
    "Episode 80\tAverage Score: 1.18\n",
    "Episode 100\tAverage Score: 1.61\n",
    "Episode 120\tAverage Score: 1.80\n",
    "Episode 140\tAverage Score: 2.35\n",
    "Episode 160\tAverage Score: 2.65\n",
    "Episode 180\tAverage Score: 2.75\n",
    "Episode 200\tAverage Score: 3.65\n",
    "Episode 220\tAverage Score: 3.17\n",
    "Episode 240\tAverage Score: 4.34\n",
    "Episode 260\tAverage Score: 5.91\n",
    "Episode 269\tAverage Score: 6.62"
   ]
  },
  {
   "cell_type": "markdown",
   "metadata": {},
   "source": [
    "Initial, LR_CRITIC = 1e-5, gradient clipping, UPDATE_EVERY = 4, Normal Noise 0.2, Smaller network sizes:\n",
    "Episode 20\tAverage Score: 0.28\n",
    "Episode 40\tAverage Score: 1.12\n",
    "Episode 60\tAverage Score: 1.13\n",
    "Episode 80\tAverage Score: 1.38\n",
    "Episode 100\tAverage Score: 1.55\n",
    "Episode 120\tAverage Score: 1.85\n",
    "Episode 140\tAverage Score: 2.73\n",
    "Episode 160\tAverage Score: 2.52\n",
    "Episode 180\tAverage Score: 2.58\n",
    "Episode 200\tAverage Score: 3.66\n",
    "Episode 220\tAverage Score: 3.85\n",
    "Episode 240\tAverage Score: 4.68\n",
    "Episode 260\tAverage Score: 6.04\n",
    "Episode 280\tAverage Score: 6.30\n",
    "Episode 300\tAverage Score: 5.75"
   ]
  },
  {
   "cell_type": "markdown",
   "metadata": {},
   "source": [
    "Initial, LR_CRITIC = 1e-4, gradient clipping, UPDATE_EVERY = 4, Normal Noise 0.2, Smaller network sizes:\n",
    "Episode 20\tAverage Score: 0.81\n",
    "Episode 40\tAverage Score: 0.71\n",
    "Episode 60\tAverage Score: 1.35\n",
    "Episode 80\tAverage Score: 2.17\n",
    "Episode 100\tAverage Score: 3.15\n",
    "Episode 120\tAverage Score: 2.97\n",
    "Episode 140\tAverage Score: 5.22\n",
    "Episode 160\tAverage Score: 5.54\n",
    "Episode 180\tAverage Score: 6.38\n",
    "Episode 200\tAverage Score: 7.12\n",
    "Episode 220\tAverage Score: 7.15\n",
    "Episode 240\tAverage Score: 7.06\n",
    "Episode 260\tAverage Score: 8.65\n",
    "Episode 280\tAverage Score: 8.89\n",
    "Episode 300\tAverage Score: 9.64"
   ]
  },
  {
   "cell_type": "markdown",
   "metadata": {},
   "source": [
    "Initial, LR_CRITIC = 1e-5, gradient clipping, UPDATE_EVERY = 4, Normal Noise 0.2, batchnorm:\n",
    "Episode 20\tAverage Score: 0.76\n",
    "Episode 40\tAverage Score: 1.06\n",
    "Episode 60\tAverage Score: 1.15\n",
    "Episode 80\tAverage Score: 1.66\n",
    "Episode 100\tAverage Score: 2.11\n",
    "Episode 120\tAverage Score: 2.88\n",
    "Episode 140\tAverage Score: 3.47\n",
    "Episode 160\tAverage Score: 4.01\n",
    "Episode 180\tAverage Score: 4.38\n",
    "Episode 200\tAverage Score: 4.54\n",
    "Episode 220\tAverage Score: 6.86\n",
    "Episode 240\tAverage Score: 6.95\n",
    "Episode 260\tAverage Score: 13.37\n",
    "Episode 280\tAverage Score: 14.19\n",
    "Episode 300\tAverage Score: 16.44"
   ]
  },
  {
   "cell_type": "markdown",
   "metadata": {},
   "source": [
    "Initial, LR_CRITIC = 1e-3, gradient clipping, UPDATE_EVERY = 4, Normal Noise 0.2, batchnorm: \n",
    "Episode 20\tAverage Score: 0.56\n",
    "Episode 40\tAverage Score: 1.10\n",
    "Episode 60\tAverage Score: 1.90\n",
    "Episode 80\tAverage Score: 2.80\n",
    "Episode 100\tAverage Score: 3.82\n",
    "Episode 120\tAverage Score: 5.06\n",
    "Episode 140\tAverage Score: 6.14\n",
    "Episode 160\tAverage Score: 6.58\n",
    "Episode 180\tAverage Score: 8.25\n",
    "Episode 200\tAverage Score: 9.81\n",
    "Episode 220\tAverage Score: 9.303\n",
    "Episode 240\tAverage Score: 9.926\n",
    "Episode 260\tAverage Score: 14.82\n",
    "Episode 280\tAverage Score: 12.03\n",
    "Episode 300\tAverage Score: 11.61"
   ]
  },
  {
   "cell_type": "markdown",
   "metadata": {},
   "source": [
    "Initial, LR_CRITIC = 1e-4, gradient clipping, UPDATE_EVERY = 4, Normal Noise 0.2, batchnorm:\n",
    "Episode 20\tAverage Score: 0.59\n",
    "Episode 40\tAverage Score: 1.16\n",
    "Episode 60\tAverage Score: 2.26\n",
    "Episode 80\tAverage Score: 3.35\n",
    "Episode 100\tAverage Score: 4.85\n",
    "Episode 120\tAverage Score: 6.24\n",
    "Episode 140\tAverage Score: 10.58\n",
    "Episode 160\tAverage Score: 13.80\n",
    "Episode 180\tAverage Score: 17.70\n",
    "Episode 200\tAverage Score: 21.33\n",
    "Episode 220\tAverage Score: 26.64\n",
    "Episode 240\tAverage Score: 32.57\n",
    "Episode 260\tAverage Score: 36.25\n",
    "Episode 280\tAverage Score: 37.33\n",
    "Episode 300\tAverage Score: 38.24"
   ]
  },
  {
   "cell_type": "markdown",
   "metadata": {},
   "source": [
    "Initial, LR_CRITIC = 1e-4, gradient clipping, UPDATE_EVERY = 4, Normal Noise 0.2, batchnorm, BUFFER_SIZE = int(1e6), BATCH_SIZE = 512: \n",
    "Episode 20\tAverage Score: 0.94\n",
    "Episode 40\tAverage Score: 1.54\n",
    "Episode 60\tAverage Score: 2.55\n",
    "Episode 80\tAverage Score: 3.87\n",
    "Episode 100\tAverage Score: 5.96\n",
    "Episode 120\tAverage Score: 8.54\n",
    "Episode 140\tAverage Score: 13.30\n",
    "Episode 160\tAverage Score: 21.64\n",
    "Episode 180\tAverage Score: 26.33\n",
    "Episode 200\tAverage Score: 33.13\n",
    "Episode 220\tAverage Score: 36.34\n",
    "Episode 240\tAverage Score: 36.54\n",
    "Episode 260\tAverage Score: 39.16\n",
    "Episode 280\tAverage Score: 39.15\n",
    "Episode 300\tAverage Score: 39.09"
   ]
  },
  {
   "cell_type": "markdown",
   "metadata": {},
   "source": [
    "Initial, LR_CRITIC = 1e-4, gradient clipping, UPDATE_EVERY = 10, STEPS = 4, Normal Noise 0.2, batchnorm, BUFFER_SIZE = int(1e6), BATCH_SIZE = 512:\n",
    "Episode 20\tAverage Score: 1.21\n",
    "Episode 40\tAverage Score: 2.17\n",
    "Episode 60\tAverage Score: 4.87\n",
    "Episode 80\tAverage Score: 8.20\n",
    "Episode 100\tAverage Score: 9.44\n",
    "Episode 120\tAverage Score: 16.35\n",
    "Episode 140\tAverage Score: 23.46\n",
    "Episode 160\tAverage Score: 32.90\n",
    "Episode 180\tAverage Score: 36.42\n",
    "Episode 200\tAverage Score: 39.15\n",
    "Episode 220\tAverage Score: 39.21\n",
    "Episode 240\tAverage Score: 39.02\n",
    "Episode 260\tAverage Score: 38.74\n",
    "Episode 280\tAverage Score: 38.63\n",
    "Episode 293\tAverage Score: 37.83"
   ]
  },
  {
   "cell_type": "code",
   "execution_count": null,
   "metadata": {},
   "outputs": [],
   "source": []
  }
 ],
 "metadata": {
  "kernelspec": {
   "display_name": "Python 3",
   "language": "python",
   "name": "python3"
  },
  "language_info": {
   "codemirror_mode": {
    "name": "ipython",
    "version": 3
   },
   "file_extension": ".py",
   "mimetype": "text/x-python",
   "name": "python",
   "nbconvert_exporter": "python",
   "pygments_lexer": "ipython3",
   "version": "3.6.3"
  }
 },
 "nbformat": 4,
 "nbformat_minor": 2
}
